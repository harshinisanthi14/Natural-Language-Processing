{
  "nbformat": 4,
  "nbformat_minor": 0,
  "metadata": {
    "colab": {
      "provenance": []
    },
    "kernelspec": {
      "name": "python3",
      "display_name": "Python 3"
    },
    "language_info": {
      "name": "python"
    }
  },
  "cells": [
    {
      "cell_type": "markdown",
      "source": [
        "Hugging face integrate with collab"
      ],
      "metadata": {
        "id": "rwznla7FH3_h"
      }
    },
    {
      "cell_type": "code",
      "source": [
        "# hugging face interate with collab"
      ],
      "metadata": {
        "id": "dYSc8SYJcyXC"
      },
      "execution_count": 1,
      "outputs": []
    },
    {
      "cell_type": "code",
      "source": [
        "!huggingface-cli login"
      ],
      "metadata": {
        "colab": {
          "base_uri": "https://localhost:8080/"
        },
        "id": "KY_bdATyc3Dy",
        "outputId": "88ded627-5159-4859-da30-073a59918034"
      },
      "execution_count": 2,
      "outputs": [
        {
          "output_type": "stream",
          "name": "stdout",
          "text": [
            "\n",
            "    _|    _|  _|    _|    _|_|_|    _|_|_|  _|_|_|  _|      _|    _|_|_|      _|_|_|_|    _|_|      _|_|_|  _|_|_|_|\n",
            "    _|    _|  _|    _|  _|        _|          _|    _|_|    _|  _|            _|        _|    _|  _|        _|\n",
            "    _|_|_|_|  _|    _|  _|  _|_|  _|  _|_|    _|    _|  _|  _|  _|  _|_|      _|_|_|    _|_|_|_|  _|        _|_|_|\n",
            "    _|    _|  _|    _|  _|    _|  _|    _|    _|    _|    _|_|  _|    _|      _|        _|    _|  _|        _|\n",
            "    _|    _|    _|_|      _|_|_|    _|_|_|  _|_|_|  _|      _|    _|_|_|      _|        _|    _|    _|_|_|  _|_|_|_|\n",
            "\n",
            "    To log in, `huggingface_hub` requires a token generated from https://huggingface.co/settings/tokens .\n",
            "Enter your token (input will not be visible): \n",
            "Add token as git credential? (Y/n) Y\n",
            "Token is valid (permission: read).\n",
            "The token `genai-proj` has been saved to /root/.cache/huggingface/stored_tokens\n",
            "\u001b[1m\u001b[31mCannot authenticate through git-credential as no helper is defined on your machine.\n",
            "You might have to re-authenticate when pushing to the Hugging Face Hub.\n",
            "Run the following command in your terminal in case you want to set the 'store' credential helper as default.\n",
            "\n",
            "git config --global credential.helper store\n",
            "\n",
            "Read https://git-scm.com/book/en/v2/Git-Tools-Credential-Storage for more details.\u001b[0m\n",
            "Token has not been saved to git credential helper.\n",
            "Your token has been saved to /root/.cache/huggingface/token\n",
            "Login successful.\n",
            "The current active token is: `genai-proj`\n"
          ]
        }
      ]
    },
    {
      "cell_type": "markdown",
      "source": [
        "Transformers"
      ],
      "metadata": {
        "id": "CoMFEK12It4T"
      }
    },
    {
      "cell_type": "code",
      "source": [
        "# transfromer -  loading all the models on hugging face to collab"
      ],
      "metadata": {
        "id": "l7kh_DbHdCOF"
      },
      "execution_count": 3,
      "outputs": []
    },
    {
      "cell_type": "code",
      "source": [
        "%%capture\n",
        "pip install transformers"
      ],
      "metadata": {
        "id": "SIpXItbrgyVf"
      },
      "execution_count": 4,
      "outputs": []
    },
    {
      "cell_type": "code",
      "source": [
        "from transformers import pipeline"
      ],
      "metadata": {
        "id": "C5YSCcLxgn02"
      },
      "execution_count": 5,
      "outputs": []
    },
    {
      "cell_type": "markdown",
      "source": [
        "\n",
        "\n",
        "\n",
        "Sentiment Analysis"
      ],
      "metadata": {
        "id": "ARq5-MQQJO1R"
      }
    },
    {
      "cell_type": "code",
      "source": [
        "llm = pipeline(task='sentiment-analysis')"
      ],
      "metadata": {
        "colab": {
          "base_uri": "https://localhost:8080/",
          "height": 321,
          "referenced_widgets": [
            "b4eebbbd8b524cd6b05e0e542dc29b1e",
            "36777d43881747349f6cb9bab4cc947a",
            "da231625c9b34c4eac0b2147b3428c16",
            "c442e3470e5245d38ded0e6717cae419",
            "44bb72678d0e4229a7a559391cd97454",
            "d3eb725081574a81ab90d081989aafcd",
            "ad6ac71fb24648f99108cd26c866a9cb",
            "b3631d4d2f1f4615aa18e8b6b79f30cd",
            "16196da2beb74825bffd51f2a1d48699",
            "a537c1a19c6e4c2fb25874626d4a2024",
            "78f424ffbb2441c4977cbb14dfed86a3",
            "b48573b06c9f4fbab1360f16e96187fc",
            "68376cfb7ce5436186bc718e82268aa6",
            "6b31a2ba729d40389bd9b5a32f597be1",
            "2804a72c415049d09512ddf060194b91",
            "5789070234ca4269ace9e33a816d26ea",
            "0135805b2e7a4c1dbd121a8c98f55c3c",
            "96f3883248074f14b90c5bb9c1db8e4e",
            "06c8810d6aae4ecdb53dd7c6c5b575ce",
            "0b405b8e73094a2ea7d16f6d30f8e468",
            "037e77891eb54a2a900e8eca9b1efecd",
            "34d0615784f747548cda654a31cd95a0",
            "dc172ce5e7134f40b4c8575a742c4520",
            "d911dd6b394f4a1483d164263532325a",
            "34f9d292efcd4fcea75c103a4d84f480",
            "a26262312038430d97f048cb96225b2f",
            "7865f42b94fe462e87be57e70dca57e0",
            "70b9a67b7f1844cbab7e7a30ab8a0164",
            "94ef4536e336417493b29c68278d3a4c",
            "d82e00eb06be46138a3267627cf8ad7e",
            "46a6f11906ce458c8915645ee1387e32",
            "fd2d20b83c704cd3b3c1b432fd1eaa56",
            "9dff2e89f19a4020a5bb7f394fcc8f54",
            "dd75c933fbc944dcbbf5e8523a85de1b",
            "a18cc51d5bf0464e8085a7e461a7a8d5",
            "afacca8bf88943dd94d5b66bae8d1880",
            "8061dd71fb2747128a785b73197682fb",
            "10befed71a2b400fabeb19639e26c9ef",
            "c5c4cd454d6648d59e4a345e00e07d15",
            "b5dd78698cf643709d5003eb300b8440",
            "52aa0599c1984c658b068342dc97ce9a",
            "773cd4db40a6459c98cbb3c824c93f86",
            "9034b71807f5452bbfd29129ad35d22c",
            "a4c65bac735d452184300c57842d7701"
          ]
        },
        "id": "B71BdrPZg_t-",
        "outputId": "77d6e3b3-2763-406a-b3da-715284c23628"
      },
      "execution_count": 6,
      "outputs": [
        {
          "output_type": "stream",
          "name": "stderr",
          "text": [
            "No model was supplied, defaulted to distilbert/distilbert-base-uncased-finetuned-sst-2-english and revision 714eb0f (https://huggingface.co/distilbert/distilbert-base-uncased-finetuned-sst-2-english).\n",
            "Using a pipeline without specifying a model name and revision in production is not recommended.\n",
            "/usr/local/lib/python3.11/dist-packages/huggingface_hub/utils/_auth.py:94: UserWarning: \n",
            "The secret `HF_TOKEN` does not exist in your Colab secrets.\n",
            "To authenticate with the Hugging Face Hub, create a token in your settings tab (https://huggingface.co/settings/tokens), set it as secret in your Google Colab and restart your session.\n",
            "You will be able to reuse this secret in all of your notebooks.\n",
            "Please note that authentication is recommended but still optional to access public models or datasets.\n",
            "  warnings.warn(\n"
          ]
        },
        {
          "output_type": "display_data",
          "data": {
            "text/plain": [
              "config.json:   0%|          | 0.00/629 [00:00<?, ?B/s]"
            ],
            "application/vnd.jupyter.widget-view+json": {
              "version_major": 2,
              "version_minor": 0,
              "model_id": "b4eebbbd8b524cd6b05e0e542dc29b1e"
            }
          },
          "metadata": {}
        },
        {
          "output_type": "display_data",
          "data": {
            "text/plain": [
              "model.safetensors:   0%|          | 0.00/268M [00:00<?, ?B/s]"
            ],
            "application/vnd.jupyter.widget-view+json": {
              "version_major": 2,
              "version_minor": 0,
              "model_id": "b48573b06c9f4fbab1360f16e96187fc"
            }
          },
          "metadata": {}
        },
        {
          "output_type": "display_data",
          "data": {
            "text/plain": [
              "tokenizer_config.json:   0%|          | 0.00/48.0 [00:00<?, ?B/s]"
            ],
            "application/vnd.jupyter.widget-view+json": {
              "version_major": 2,
              "version_minor": 0,
              "model_id": "dc172ce5e7134f40b4c8575a742c4520"
            }
          },
          "metadata": {}
        },
        {
          "output_type": "display_data",
          "data": {
            "text/plain": [
              "vocab.txt: 0.00B [00:00, ?B/s]"
            ],
            "application/vnd.jupyter.widget-view+json": {
              "version_major": 2,
              "version_minor": 0,
              "model_id": "dd75c933fbc944dcbbf5e8523a85de1b"
            }
          },
          "metadata": {}
        },
        {
          "output_type": "stream",
          "name": "stderr",
          "text": [
            "Device set to use cpu\n"
          ]
        }
      ]
    },
    {
      "cell_type": "code",
      "source": [
        "llm('I am learning GenAI and it looks fascinating')"
      ],
      "metadata": {
        "colab": {
          "base_uri": "https://localhost:8080/"
        },
        "id": "VxDpmHNUhbed",
        "outputId": "e5b7fe1e-43ea-48b9-a8ee-944bb7f2866a"
      },
      "execution_count": 7,
      "outputs": [
        {
          "output_type": "execute_result",
          "data": {
            "text/plain": [
              "[{'label': 'POSITIVE', 'score': 0.9998118281364441}]"
            ]
          },
          "metadata": {},
          "execution_count": 7
        }
      ]
    },
    {
      "cell_type": "code",
      "source": [
        "llm('I am learning GenAI and it looks fascinating')[0][\"label\"]"
      ],
      "metadata": {
        "colab": {
          "base_uri": "https://localhost:8080/",
          "height": 35
        },
        "id": "1t7lmivNhzk9",
        "outputId": "f270221f-a0a5-46b2-ec12-690a26474dbd"
      },
      "execution_count": 8,
      "outputs": [
        {
          "output_type": "execute_result",
          "data": {
            "text/plain": [
              "'POSITIVE'"
            ],
            "application/vnd.google.colaboratory.intrinsic+json": {
              "type": "string"
            }
          },
          "metadata": {},
          "execution_count": 8
        }
      ]
    },
    {
      "cell_type": "markdown",
      "source": [
        "Create a Gradio Application for Sentiment Analysis"
      ],
      "metadata": {
        "id": "O-nIIUBHKBGk"
      }
    },
    {
      "cell_type": "code",
      "source": [
        "%%capture\n",
        "pip install gradio"
      ],
      "metadata": {
        "id": "ijT53d37iJqR"
      },
      "execution_count": 9,
      "outputs": []
    },
    {
      "cell_type": "code",
      "source": [
        "def sentiment_analysis(text):\n",
        "  return llm(text)[0][\"label\"]"
      ],
      "metadata": {
        "id": "dzBHShTdiqwb"
      },
      "execution_count": 10,
      "outputs": []
    },
    {
      "cell_type": "code",
      "source": [
        "import gradio as gr"
      ],
      "metadata": {
        "id": "YXdTBUfcj506"
      },
      "execution_count": 11,
      "outputs": []
    },
    {
      "cell_type": "code",
      "source": [
        "demo = gr.Interface(fn=sentiment_analysis,\n",
        "                    inputs=\"text\",\n",
        "                    outputs=\"text\",\n",
        "                    title=\"Sentimental-analysis\")"
      ],
      "metadata": {
        "id": "1FSWd6Azj7-d"
      },
      "execution_count": 12,
      "outputs": []
    },
    {
      "cell_type": "code",
      "source": [
        "demo.launch()"
      ],
      "metadata": {
        "colab": {
          "base_uri": "https://localhost:8080/",
          "height": 646
        },
        "id": "YPUcEqKUkLgI",
        "outputId": "fa78b167-9b86-4719-8216-1e44ac0d922c"
      },
      "execution_count": 13,
      "outputs": [
        {
          "output_type": "stream",
          "name": "stdout",
          "text": [
            "It looks like you are running Gradio on a hosted a Jupyter notebook. For the Gradio app to work, sharing must be enabled. Automatically setting `share=True` (you can turn this off by setting `share=False` in `launch()` explicitly).\n",
            "\n",
            "Colab notebook detected. To show errors in colab notebook, set debug=True in launch()\n",
            "* Running on public URL: https://4b5081ebf08247acff.gradio.live\n",
            "\n",
            "This share link expires in 1 week. For free permanent hosting and GPU upgrades, run `gradio deploy` from the terminal in the working directory to deploy to Hugging Face Spaces (https://huggingface.co/spaces)\n"
          ]
        },
        {
          "output_type": "display_data",
          "data": {
            "text/plain": [
              "<IPython.core.display.HTML object>"
            ],
            "text/html": [
              "<div><iframe src=\"https://4b5081ebf08247acff.gradio.live\" width=\"100%\" height=\"500\" allow=\"autoplay; camera; microphone; clipboard-read; clipboard-write;\" frameborder=\"0\" allowfullscreen></iframe></div>"
            ]
          },
          "metadata": {}
        },
        {
          "output_type": "execute_result",
          "data": {
            "text/plain": []
          },
          "metadata": {},
          "execution_count": 13
        }
      ]
    },
    {
      "cell_type": "code",
      "source": [
        "text_list = [\"This great\",\n",
        "             \"Thanks for nothing\",\n",
        "             \"You've got to work on your face\",\n",
        "             \"You are beautiful, never change!\"]"
      ],
      "metadata": {
        "id": "_oG-DPtSkc8Y"
      },
      "execution_count": 14,
      "outputs": []
    },
    {
      "cell_type": "code",
      "source": [
        "llm = pipeline(task='sentiment-analysis',model='distilbert/distilbert-base-uncased-finetuned-sst-2-english')"
      ],
      "metadata": {
        "colab": {
          "base_uri": "https://localhost:8080/"
        },
        "id": "tADFLIxomlee",
        "outputId": "abf8f36d-bce2-4b75-f416-f8ead81cf812"
      },
      "execution_count": 15,
      "outputs": [
        {
          "output_type": "stream",
          "name": "stderr",
          "text": [
            "Device set to use cpu\n"
          ]
        }
      ]
    },
    {
      "cell_type": "code",
      "source": [
        "llm(text_list)"
      ],
      "metadata": {
        "colab": {
          "base_uri": "https://localhost:8080/"
        },
        "id": "Q_kk5Gxem6kd",
        "outputId": "abe8a566-6a05-4cb7-f35c-33e6390f5cb2"
      },
      "execution_count": 16,
      "outputs": [
        {
          "output_type": "execute_result",
          "data": {
            "text/plain": [
              "[{'label': 'POSITIVE', 'score': 0.9998568296432495},\n",
              " {'label': 'POSITIVE', 'score': 0.9680057168006897},\n",
              " {'label': 'NEGATIVE', 'score': 0.8776122331619263},\n",
              " {'label': 'POSITIVE', 'score': 0.9997714161872864}]"
            ]
          },
          "metadata": {},
          "execution_count": 16
        }
      ]
    },
    {
      "cell_type": "markdown",
      "source": [
        "Text Classification"
      ],
      "metadata": {
        "id": "iCZLBaeJKiSq"
      }
    },
    {
      "cell_type": "code",
      "source": [
        "# text classification ---- sad,happy,anger"
      ],
      "metadata": {
        "id": "om_SxiM5m_Lq"
      },
      "execution_count": 17,
      "outputs": []
    },
    {
      "cell_type": "code",
      "source": [
        "from transformers import pipeline"
      ],
      "metadata": {
        "id": "8bQ--bupnX42"
      },
      "execution_count": 18,
      "outputs": []
    },
    {
      "cell_type": "code",
      "source": [
        "classifier = pipeline(task='text-classification',model=\"SamLowe/roberta-base-go_emotions\")"
      ],
      "metadata": {
        "colab": {
          "base_uri": "https://localhost:8080/",
          "height": 258,
          "referenced_widgets": [
            "f01c1e5190d4431299b81deb05b7674d",
            "a77fb7f0003d4feba1c40568910fd016",
            "6ae452e1930444599b1c82357b5cd45c",
            "c4653b81751246b19cf00660e2e72d55",
            "a11e8bf173b94e5d9e82f7037a0561d7",
            "a37f466108d342e3a413f95285bc2702",
            "208a983ff578452b92c803afdfefcabd",
            "bd9d4a467e6a4e2c9fa7696dfd4fe0a6",
            "089c4daa99b14318b54fcb7c59096b64",
            "ae1dc181aee74fa6b011f8f32490bf0a",
            "7084b712f76041d6a297519fbc976d02",
            "938f384a5ea843a0b7033a89cbf13967",
            "6ee4276d8e934b0ea3ccb97300096082",
            "5ce904c6bcde4290ac6415ed7e3ff170",
            "0d4a267e102c41c9bc5192f96346cfb8",
            "32e4459ad44e40f8bd6a9529437095f0",
            "8c5351848b4e467c836c3b7efd0d8e23",
            "6725671d33464f1d8e687f5b25494c17",
            "681a05fea60648749868a20fa1f0b2ad",
            "0e74dec473384c12b32d056f9a24ff92",
            "bd5d114f38204d26956e278f09f8d565",
            "e024466cd8514b8dacfcd98e804c3d20",
            "660a9e9710434d48846654b69e74770e",
            "dafe17b79034411ba6cf3ed9931d51a5",
            "b07a47c2ab6448e0adcf43f9d927382e",
            "709e333fab564dbebf310ea8a0ae17c6",
            "67845c2d2b664eb78c9ae3d8a1e04198",
            "ad5fac4ba5b54e1299637a122d5c3f96",
            "d0561d937b9744d78bc3f724e9ecc468",
            "5dcee8ac8c344642b97aefd822761676",
            "3fb301a8bd544073838e16a12210fb89",
            "fcb1272c5f6b49919c9f6f42e269246d",
            "faa03217241d42d7bf9d9eb394de27fe",
            "4ad8892f42084344b7501f6def88fac5",
            "9ea74e383a064307a4769a4e616e2922",
            "4ad618d40a2145bc8e00f1576213875f",
            "5da5bbf3343345529fa9f78c3d09fdee",
            "96fb7770a29246e7818c7302af522684",
            "e365809578574e4ba5229a48aaa5c1a0",
            "eb570426621f4b47a304580c7b4a6f98",
            "c68e7eac136a4521ab85faa91b8b9c0f",
            "774ecef52a5548c1ba8374137511aa2f",
            "f03503a2e0ad4b1cb63b28f7b2161932",
            "ed740e1e983349d3a5d8ec2b849ba414",
            "3fa0cbe0fbdd4595aa0caf3169b64c9c",
            "a72a64b7b5754298b43b5b68052fe1dc",
            "2398d4ed2ff04c5d8a82f17aa6dfac4d",
            "0ed7ed7188164156a4c77698910fd781",
            "186671962d7f41c0bb5beb82280debcd",
            "3acf4311fa774e0fa19da3ad6614f907",
            "d256a3d776d1410cbecf9016a7e538e0",
            "920a25a32f004bd2b476af38435b02e8",
            "de4cdfc2bb5241d7b424254bfb253556",
            "eded86a0c54b4a4787cdb474c39648ae",
            "41e5eb0960ae4df3b15f31137726e0e6",
            "e7596297441741e0b692a985ca08e688",
            "442948dc63a74baf97414db0dbc6abdf",
            "e05741ce38e0457ba1e85aa9c80fe6a6",
            "0f8c67b690e04a30ba7b89cd6851e740",
            "b06ac8102f9f4f89afb7f0a10b7a6cfe",
            "f7dccccfae5745d09df833340182dad6",
            "ee94165e445c45dcb3dfa5e8f44822fe",
            "a362ce2095514249aba997cda3d931c0",
            "8502c2f1240d46a68f158d0741b47263",
            "4d4e4124f1404bdf96ad767c3fe270fc",
            "7d19cafe621b424e8e0162ef2f628c42",
            "595d778ac9504b3288c9ecb570def96f",
            "2c6a50a35aec4f03b3be5791ff5c2f32",
            "24e6bf3545844230a20ce3c31376550f",
            "4dcaae7c484f4aa393e9ebbb46193d8f",
            "a59623d4fc7a4edc9bfb5acec1315559",
            "9af9fc81bb6141c1a8444ed759afbd3b",
            "bf396842d40a485082ae1df2744b6bb0",
            "93333f7f3ecd4b8aa2fd59294ed8630c",
            "127a69c52b934431ad3bf301e8dafd79",
            "5ef3f55ce05947b7adcb871cf9d95e0a",
            "f3f3feceb45e45c780f5c0efb7d8655b"
          ]
        },
        "id": "1-hG0JR0olBt",
        "outputId": "fe79a370-1fcd-4717-ac87-9379f8c83b73"
      },
      "execution_count": 19,
      "outputs": [
        {
          "output_type": "display_data",
          "data": {
            "text/plain": [
              "config.json: 0.00B [00:00, ?B/s]"
            ],
            "application/vnd.jupyter.widget-view+json": {
              "version_major": 2,
              "version_minor": 0,
              "model_id": "f01c1e5190d4431299b81deb05b7674d"
            }
          },
          "metadata": {}
        },
        {
          "output_type": "display_data",
          "data": {
            "text/plain": [
              "model.safetensors:   0%|          | 0.00/499M [00:00<?, ?B/s]"
            ],
            "application/vnd.jupyter.widget-view+json": {
              "version_major": 2,
              "version_minor": 0,
              "model_id": "938f384a5ea843a0b7033a89cbf13967"
            }
          },
          "metadata": {}
        },
        {
          "output_type": "display_data",
          "data": {
            "text/plain": [
              "tokenizer_config.json:   0%|          | 0.00/380 [00:00<?, ?B/s]"
            ],
            "application/vnd.jupyter.widget-view+json": {
              "version_major": 2,
              "version_minor": 0,
              "model_id": "660a9e9710434d48846654b69e74770e"
            }
          },
          "metadata": {}
        },
        {
          "output_type": "display_data",
          "data": {
            "text/plain": [
              "vocab.json: 0.00B [00:00, ?B/s]"
            ],
            "application/vnd.jupyter.widget-view+json": {
              "version_major": 2,
              "version_minor": 0,
              "model_id": "4ad8892f42084344b7501f6def88fac5"
            }
          },
          "metadata": {}
        },
        {
          "output_type": "display_data",
          "data": {
            "text/plain": [
              "merges.txt: 0.00B [00:00, ?B/s]"
            ],
            "application/vnd.jupyter.widget-view+json": {
              "version_major": 2,
              "version_minor": 0,
              "model_id": "3fa0cbe0fbdd4595aa0caf3169b64c9c"
            }
          },
          "metadata": {}
        },
        {
          "output_type": "display_data",
          "data": {
            "text/plain": [
              "tokenizer.json: 0.00B [00:00, ?B/s]"
            ],
            "application/vnd.jupyter.widget-view+json": {
              "version_major": 2,
              "version_minor": 0,
              "model_id": "e7596297441741e0b692a985ca08e688"
            }
          },
          "metadata": {}
        },
        {
          "output_type": "display_data",
          "data": {
            "text/plain": [
              "special_tokens_map.json:   0%|          | 0.00/280 [00:00<?, ?B/s]"
            ],
            "application/vnd.jupyter.widget-view+json": {
              "version_major": 2,
              "version_minor": 0,
              "model_id": "595d778ac9504b3288c9ecb570def96f"
            }
          },
          "metadata": {}
        },
        {
          "output_type": "stream",
          "name": "stderr",
          "text": [
            "Device set to use cpu\n"
          ]
        }
      ]
    },
    {
      "cell_type": "code",
      "source": [
        "sentence = \"I'm learning enjoying data science\""
      ],
      "metadata": {
        "id": "L5DzSdc4o05J"
      },
      "execution_count": 20,
      "outputs": []
    },
    {
      "cell_type": "code",
      "source": [
        "classifier(sentence)[0][\"label\"]"
      ],
      "metadata": {
        "colab": {
          "base_uri": "https://localhost:8080/",
          "height": 35
        },
        "id": "q2XnVzFxpFTq",
        "outputId": "ce111a6f-968c-4b34-add4-56c2868d28a3"
      },
      "execution_count": 21,
      "outputs": [
        {
          "output_type": "execute_result",
          "data": {
            "text/plain": [
              "'joy'"
            ],
            "application/vnd.google.colaboratory.intrinsic+json": {
              "type": "string"
            }
          },
          "metadata": {},
          "execution_count": 21
        }
      ]
    },
    {
      "cell_type": "markdown",
      "source": [
        "Create a Gradio Application for Text Classification"
      ],
      "metadata": {
        "id": "QLILoOQ-KusD"
      }
    },
    {
      "cell_type": "code",
      "source": [
        "import gradio as gr"
      ],
      "metadata": {
        "id": "Yyf6k7QSpIBC"
      },
      "execution_count": 22,
      "outputs": []
    },
    {
      "cell_type": "code",
      "source": [
        "def text_class(text):\n",
        "  return classifier(text)[0][\"label\"]"
      ],
      "metadata": {
        "id": "j-pVLXmTpudT"
      },
      "execution_count": 23,
      "outputs": []
    },
    {
      "cell_type": "code",
      "source": [
        "demo1 = gr.Interface(fn=text_class, inputs='text', outputs='text', title='Text-Classification')"
      ],
      "metadata": {
        "id": "z1dBU5hnp5da"
      },
      "execution_count": 24,
      "outputs": []
    },
    {
      "cell_type": "code",
      "source": [
        "demo1.launch()"
      ],
      "metadata": {
        "colab": {
          "base_uri": "https://localhost:8080/",
          "height": 646
        },
        "id": "QpWt0M86qMiw",
        "outputId": "5401c039-3bf5-499a-bc62-b91ea2ea8f7e"
      },
      "execution_count": 25,
      "outputs": [
        {
          "output_type": "stream",
          "name": "stdout",
          "text": [
            "It looks like you are running Gradio on a hosted a Jupyter notebook. For the Gradio app to work, sharing must be enabled. Automatically setting `share=True` (you can turn this off by setting `share=False` in `launch()` explicitly).\n",
            "\n",
            "Colab notebook detected. To show errors in colab notebook, set debug=True in launch()\n",
            "* Running on public URL: https://6f0ed0efbd0c6baab5.gradio.live\n",
            "\n",
            "This share link expires in 1 week. For free permanent hosting and GPU upgrades, run `gradio deploy` from the terminal in the working directory to deploy to Hugging Face Spaces (https://huggingface.co/spaces)\n"
          ]
        },
        {
          "output_type": "display_data",
          "data": {
            "text/plain": [
              "<IPython.core.display.HTML object>"
            ],
            "text/html": [
              "<div><iframe src=\"https://6f0ed0efbd0c6baab5.gradio.live\" width=\"100%\" height=\"500\" allow=\"autoplay; camera; microphone; clipboard-read; clipboard-write;\" frameborder=\"0\" allowfullscreen></iframe></div>"
            ]
          },
          "metadata": {}
        },
        {
          "output_type": "execute_result",
          "data": {
            "text/plain": []
          },
          "metadata": {},
          "execution_count": 25
        }
      ]
    },
    {
      "cell_type": "markdown",
      "source": [
        "Summarization"
      ],
      "metadata": {
        "id": "ieS2ZfK8LA1r"
      }
    },
    {
      "cell_type": "code",
      "source": [
        "from transformers import pipeline"
      ],
      "metadata": {
        "id": "dZMZXc56sqHb"
      },
      "execution_count": 26,
      "outputs": []
    },
    {
      "cell_type": "code",
      "source": [
        "summarizer = pipeline(\"summarization\", model=\"facebook/bart-large-cnn\")"
      ],
      "metadata": {
        "colab": {
          "base_uri": "https://localhost:8080/",
          "height": 226,
          "referenced_widgets": [
            "2be715d56c1947d9a4829798539f186f",
            "e40ff021fa45463cb9a62ef85ae24dce",
            "76f518ccd87345e7b305f90ed270da65",
            "641aef0a624a4713b0d0e2aaa24f4478",
            "54ef44bc50aa424296228e0bb6d163ed",
            "1e52b63ee6f1444baba1aefe895ca8e9",
            "c7500d1eaffd4f9eb5ad4a9a7f425a12",
            "c7405c60f62c440baae60688369e90ae",
            "eec2b68aae5440769b097cee6533b689",
            "049dcaea9969421faf3a0f90935fc568",
            "b20d980241184ce6a1966ce5324ff3d6",
            "b7ad6f03024d4725addbd41e1fafb41a",
            "c613f5e87b354315b03aa47795c3a54a",
            "24d17a2a617b414bba15d6ec5049427f",
            "b577ed0d1f874d77b3314e00a5fd5619",
            "3e406bebea8849ac8d357f8b666fce37",
            "29d6dadc00874dbbba762c2e345ad60f",
            "bfd282ca599147259c4171ee9df79a4d",
            "dd409b316c4b466f9b04487ac60562bf",
            "df002e63197449618d69fc78df7e98d0",
            "0be8b2a829b24e88b3b0769197fea53e",
            "289344348f764d2a9ebbeb938c4a0833",
            "d2deac250c954fe4aa90e9b015772391",
            "9f52de525baf44f086b73db11304dbd6",
            "b25c9713405043f39d91173839d83904",
            "8e1af6d65e6a42a59868ea43642ab4c7",
            "a8adeb670c4b45359c7258f563fcb2f0",
            "88e9bc7153e64edeb4c365a348bba4b5",
            "0e6b62eb355a4f88a5176533f174ce56",
            "d239afca37744890aef0c884156b6664",
            "241f577152124cf0b698d3ff890a0838",
            "fd0441fe4ccb42a1b2f8cd3a2bfa7afe",
            "2d95f0704dec44b498fc768995c85f88",
            "4fe139288413479aba1650a85819e0a3",
            "ef399875e8e64ec99d67530fe0f976ba",
            "6ffc199db6164248812b3d45e3b7ca3d",
            "ca099296e17743e0a58e916b49d9a74e",
            "830b9c84158a47478946ded89f48dc96",
            "c1352843e3344cdbae26d68222d0c7f6",
            "0900562d1da94ce097543bf5ee332e0e",
            "7a18d7eef2cb472da43e1869f209ae49",
            "52d2f06f89b6487d9885a18457006929",
            "e5f8e1401d074cc8aef1d0880d1d8118",
            "4af2b8a34cb74034a4545654c0e83d27",
            "8e0e6df24cfa40eca3966cb9c2c95f02",
            "c3e6eae5d661427aa209b418e4baca66",
            "da17daa63440405a93e9f2c701637d48",
            "42f343900f16479581a3e86666690cf8",
            "41c7c8c0d2ae4a0b9821d983b88bce40",
            "b62051d27fc8445fbee0b784c8e7e735",
            "0568da672b174ea291dfe99b5eef6225",
            "7e1cad83e3e74d0aabc1ce04139c3d9a",
            "8e22fe62a90a46a098981d083b3330bc",
            "5d87ddf126a34867a1940da8c8b08099",
            "52ed5d42138b4390ad2f262edcea8725",
            "885d49fac83c4fa197cae439f3a5edbe",
            "47ee1bc915014506a6f7a5b3ed9488ef",
            "f058bdb957a74c77bfea8953a37ec837",
            "80f67cd9d28b44a69809addae721f3bd",
            "49fa2d3eb63f43aa9d9961fbfedf8237",
            "1aff6f82277f492093aaae4b73d19baa",
            "108b2b51bdb247c5a564314fa6469895",
            "d819beac8c1840d28b2bea0988271390",
            "ca3205e9d605490580ad12716b41e252",
            "7e4ac76f0a2b403abf4eefd3a4900e49",
            "35144b2e618a431b92fe919a0accf83a"
          ]
        },
        "id": "NjNZHBPqswJl",
        "outputId": "e243ad52-3a1c-47b4-bf91-1e283aecb7c6"
      },
      "execution_count": 27,
      "outputs": [
        {
          "output_type": "display_data",
          "data": {
            "text/plain": [
              "config.json: 0.00B [00:00, ?B/s]"
            ],
            "application/vnd.jupyter.widget-view+json": {
              "version_major": 2,
              "version_minor": 0,
              "model_id": "2be715d56c1947d9a4829798539f186f"
            }
          },
          "metadata": {}
        },
        {
          "output_type": "display_data",
          "data": {
            "text/plain": [
              "model.safetensors:   0%|          | 0.00/1.63G [00:00<?, ?B/s]"
            ],
            "application/vnd.jupyter.widget-view+json": {
              "version_major": 2,
              "version_minor": 0,
              "model_id": "b7ad6f03024d4725addbd41e1fafb41a"
            }
          },
          "metadata": {}
        },
        {
          "output_type": "display_data",
          "data": {
            "text/plain": [
              "generation_config.json:   0%|          | 0.00/363 [00:00<?, ?B/s]"
            ],
            "application/vnd.jupyter.widget-view+json": {
              "version_major": 2,
              "version_minor": 0,
              "model_id": "d2deac250c954fe4aa90e9b015772391"
            }
          },
          "metadata": {}
        },
        {
          "output_type": "display_data",
          "data": {
            "text/plain": [
              "vocab.json: 0.00B [00:00, ?B/s]"
            ],
            "application/vnd.jupyter.widget-view+json": {
              "version_major": 2,
              "version_minor": 0,
              "model_id": "4fe139288413479aba1650a85819e0a3"
            }
          },
          "metadata": {}
        },
        {
          "output_type": "display_data",
          "data": {
            "text/plain": [
              "merges.txt: 0.00B [00:00, ?B/s]"
            ],
            "application/vnd.jupyter.widget-view+json": {
              "version_major": 2,
              "version_minor": 0,
              "model_id": "8e0e6df24cfa40eca3966cb9c2c95f02"
            }
          },
          "metadata": {}
        },
        {
          "output_type": "display_data",
          "data": {
            "text/plain": [
              "tokenizer.json: 0.00B [00:00, ?B/s]"
            ],
            "application/vnd.jupyter.widget-view+json": {
              "version_major": 2,
              "version_minor": 0,
              "model_id": "885d49fac83c4fa197cae439f3a5edbe"
            }
          },
          "metadata": {}
        },
        {
          "output_type": "stream",
          "name": "stderr",
          "text": [
            "Device set to use cpu\n"
          ]
        }
      ]
    },
    {
      "cell_type": "code",
      "source": [
        "article = \"\"\"\n",
        "              Greeting everyone. Today, I am here to deliver a speech on APJ Abdul Kalam. Dr APJ Abdul Kalam\u2019s full name was Avul Pakir Zainuldeben Abdul Kalam, very few people know him by his full name as he was mostly addressed as \u2018Missile Man of India\u2019 and \u2018People\u2019s President\u2019. He was born into a very poor family in Rameswaram on October 15, 1931.Since childhood, he enjoyed flying, and was equally curious to know how birds fly in the air? He was very intelligent and enjoyed reading, but his family did not have sufficient income for his school fees,\n",
        "              so to support his education, he would wake up early in the morning and ride a bicycle 3 kilometres from home to collect newspapers and sell them.\n",
        "              He was admitted to St. Joseph's College, Tiruchirapalli, and later he went on to complete a degree in physics in 1954 and then studied\n",
        "              at the Madras Institute of Technology and graduated in aeronautical engineering in 1955. Since his childhood,\n",
        "              Dr Abdul Alam wanted to be a pilot but couldn\u2019t make his dream come true. He learned from his mistakes\n",
        "              and accomplished numerous achievements in his life. After completing his degree, Abdul Kalam entered the Defense Department of India.\n",
        "              He has been one of the key figures in building the nuclear capabilities of India.\n",
        "              APJ Abdul Kalam was appointed to the Indian Ministry of Defense as a Technical Advisor in 1992,\n",
        "              after which he served with DRDO and ISRO, the country's largest organization. Considered a national hero for successful nuclear tests in 1998,\n",
        "              a second successful nuclear test was conducted in Pokhran the same year under his supervision,\n",
        "              after which India was included in the list of nuclear-powered nations. Abdul Kalam has been active in all space programs\n",
        "              and development programs in India as a scientist. For developing India's Agni missile, Kalam was called 'Missile Man.\n",
        "              'Abdul Kalam made a special technological and scientific contribution, for which, along with Bharat Ratna, India's highest honour,\n",
        "              he was awarded the Padma Bhushan, Padam Vibhushan, etc. He was also awarded an honorary doctorate by more than 30 universities in the world\n",
        "              for the same.In 2002, he was elected President of India and was the country's first scientist and non-political president.\n",
        "              He visited many countries during his tenure as President and led India's youth through his lectures and encouraged them to move forward.\n",
        "              \u2018My vision for India\u2019 was a Famous Speech of APJ Abdul Kalam delivered at IIT Hyderabad in 2011, and is to this day my favourite speech.\n",
        "              His far-reaching thinking gave India's growth a fresh path and became the youth's inspiration. Dr Abdul Kalam died on July 27, 2015,\n",
        "              from an apparent cardiac arrest while delivering a lecture at IIM Shillong at the age of 83.\n",
        "              He spent his entire life in service and inspiration for the nation and the youth, and his death is also while addressing the youth.\n",
        "              His death is a never-ending loss to the country. \"\"\""
      ],
      "metadata": {
        "id": "qbnq5zteuC05"
      },
      "execution_count": 30,
      "outputs": []
    },
    {
      "cell_type": "code",
      "source": [
        "print(summarizer(article,max_length=100,min_length=30)[0][\"summary_text\"])"
      ],
      "metadata": {
        "colab": {
          "base_uri": "https://localhost:8080/"
        },
        "id": "XPh7uCTTwPFe",
        "outputId": "69f3047d-2663-4737-afbe-ed6b1c4e9c7c"
      },
      "execution_count": 31,
      "outputs": [
        {
          "output_type": "stream",
          "name": "stdout",
          "text": [
            "Dr APJ Abdul Kalam was born into a very poor family in Rameswaram on October 15, 1931. He was admitted to St. Joseph's College, Tiruchirapalli, and later he went on to complete a degree in physics in 1954. He then studied aeronautical engineering at the Madras Institute of Technology and graduated in 1955. He has been one of the key figures in building the nuclear capabilities of India. Considered a national hero for successful nuclear\n"
          ]
        }
      ]
    },
    {
      "cell_type": "markdown",
      "source": [
        "Named Entity Recognition"
      ],
      "metadata": {
        "id": "B5up5XAoNDie"
      }
    },
    {
      "cell_type": "code",
      "source": [
        "text = \"\"\"I recently purchased the Echo Dot (5th Gen) during my trip to San Francisco, and I must say, it exceeded my expectations.\n",
        "         As someone who travels often, having a compact smart speaker like this has been incredibly convenient.\n",
        "         My friend Ananya, who lives in Bangalore, recommended it to me after using it for months.\n",
        "         The sound quality is surprisingly rich for its size, and the integration with Alexa makes it easy\n",
        "         to manage my schedule, play music, or even control my smart lights back home in Hyderabad. Shipping was fast,\n",
        "         and Amazon's packaging was eco-friendly too. I would definitely suggest this to anyone looking for a budget-friendly smart assistant\n",
        "         with great portability. \"\"\""
      ],
      "metadata": {
        "id": "0e4PVpnEwXJC"
      },
      "execution_count": 32,
      "outputs": []
    },
    {
      "cell_type": "code",
      "source": [
        "# ner - named entity recognition\n",
        "# telugu\n",
        "# q and answer"
      ],
      "metadata": {
        "id": "PWQIlT9i1LAe"
      },
      "execution_count": 33,
      "outputs": []
    },
    {
      "cell_type": "code",
      "source": [
        "ner = pipeline(\"ner\",aggregation_strategy=\"simple\") #----it shows the simple and clarity names"
      ],
      "metadata": {
        "colab": {
          "base_uri": "https://localhost:8080/",
          "height": 269,
          "referenced_widgets": [
            "220da8187fcb4766a5123571891f5e4f",
            "ee89ae5880184d639719989d18d07569",
            "67fc4a08ce7c4920bba071f6a07d4351",
            "9e93fddebe20475ba95944dec13dc992",
            "f32ca094b1194a93a5edb0726e4be4ac",
            "1bf7f5ac5cd34a1fbeee104b72380f53",
            "4ecc91e45fbd46aba2de09495d6f576f",
            "67fedb3fc1594c84b0b4da96732cf428",
            "d9aa58c9457d4cf39692a7cdfc8215c8",
            "f55957c2b8a14b55acabef675762d43c",
            "0f0bfc56ebf844a5bc90b065287d9b69",
            "b2539be170b040b4bf7b1f252197d694",
            "09a8d928d93e445f838e303447e0b1e8",
            "7fb47ba053dc4dce826fec0447a8b433",
            "cf6c90c30a334195b5c318c2822f18c9",
            "4ee310f6029949d2b2e440ed2efb06e7",
            "df353027410d4528b1fce4f465e3ac0e",
            "71ef393649364972a7475a05dd340cec",
            "7ff32189d97d48af8d8bb51dce693c3e",
            "0934ef1b47e84cb6bf8500d1e7c81dd3",
            "492d4110987f40b2858ce014dfd423eb",
            "e8683fb7d7dc4c7f92b6f66533ce610e",
            "7f8de23721ae41a2b39c905f5a439d01",
            "4896d65fc26c4b9aa547af2c8ac3fd2e",
            "b3ddd6b854fe4af580cf7a3b0700f1d3",
            "f96c4831d9714d5c9bb6cc42870b547b",
            "a3bde1b5422446f5acdbdb727df04120",
            "8f78a0b153be40b6bbd1dc3920d38eb3",
            "49de2ff4cf9a4b1d9630a971845c7588",
            "a598691a30734cbfb745b95c207fc513",
            "852b7cd4ffde42108b85205723fd5429",
            "1aee1bf405f04fd0bb99cfaa98e166e0",
            "9eda82a846754c1f84ba79b6819b7cee",
            "6e374f8487ab46979bd4d72a8b94bb68",
            "823cd93f7df9496a9906b94136af9b91",
            "e7624d763567481ba69809853213cab0",
            "9ca59c23963d466baf1a9371c5abc583",
            "9c36bbd5ef724d7488807f6d99cd5b5f",
            "cb82bc5dc9ca4cf88f991df299420dc8",
            "f0c4180e51854310b9f1fd8b143816a7",
            "ddbb2f150773461bbdcc066db74ffac5",
            "6dd47b51f3f645ae93b6684b3306c379",
            "b39e390045ab4afbb0057357c148605f",
            "24d7cf6cfc4a4b3991a46cdc723e564c"
          ]
        },
        "id": "qzJ1W1mE1mVO",
        "outputId": "02eece72-82c2-4d1a-9cb2-1f02dc7cc421"
      },
      "execution_count": 34,
      "outputs": [
        {
          "output_type": "stream",
          "name": "stderr",
          "text": [
            "No model was supplied, defaulted to dbmdz/bert-large-cased-finetuned-conll03-english and revision 4c53496 (https://huggingface.co/dbmdz/bert-large-cased-finetuned-conll03-english).\n",
            "Using a pipeline without specifying a model name and revision in production is not recommended.\n"
          ]
        },
        {
          "output_type": "display_data",
          "data": {
            "text/plain": [
              "config.json:   0%|          | 0.00/998 [00:00<?, ?B/s]"
            ],
            "application/vnd.jupyter.widget-view+json": {
              "version_major": 2,
              "version_minor": 0,
              "model_id": "220da8187fcb4766a5123571891f5e4f"
            }
          },
          "metadata": {}
        },
        {
          "output_type": "display_data",
          "data": {
            "text/plain": [
              "model.safetensors:   0%|          | 0.00/1.33G [00:00<?, ?B/s]"
            ],
            "application/vnd.jupyter.widget-view+json": {
              "version_major": 2,
              "version_minor": 0,
              "model_id": "b2539be170b040b4bf7b1f252197d694"
            }
          },
          "metadata": {}
        },
        {
          "output_type": "stream",
          "name": "stderr",
          "text": [
            "Some weights of the model checkpoint at dbmdz/bert-large-cased-finetuned-conll03-english were not used when initializing BertForTokenClassification: ['bert.pooler.dense.bias', 'bert.pooler.dense.weight']\n",
            "- This IS expected if you are initializing BertForTokenClassification from the checkpoint of a model trained on another task or with another architecture (e.g. initializing a BertForSequenceClassification model from a BertForPreTraining model).\n",
            "- This IS NOT expected if you are initializing BertForTokenClassification from the checkpoint of a model that you expect to be exactly identical (initializing a BertForSequenceClassification model from a BertForSequenceClassification model).\n"
          ]
        },
        {
          "output_type": "display_data",
          "data": {
            "text/plain": [
              "tokenizer_config.json:   0%|          | 0.00/60.0 [00:00<?, ?B/s]"
            ],
            "application/vnd.jupyter.widget-view+json": {
              "version_major": 2,
              "version_minor": 0,
              "model_id": "7f8de23721ae41a2b39c905f5a439d01"
            }
          },
          "metadata": {}
        },
        {
          "output_type": "display_data",
          "data": {
            "text/plain": [
              "vocab.txt: 0.00B [00:00, ?B/s]"
            ],
            "application/vnd.jupyter.widget-view+json": {
              "version_major": 2,
              "version_minor": 0,
              "model_id": "6e374f8487ab46979bd4d72a8b94bb68"
            }
          },
          "metadata": {}
        },
        {
          "output_type": "stream",
          "name": "stderr",
          "text": [
            "Device set to use cpu\n"
          ]
        }
      ]
    },
    {
      "cell_type": "code",
      "source": [
        "import pandas as pd\n",
        "pd.DataFrame(ner(text))"
      ],
      "metadata": {
        "colab": {
          "base_uri": "https://localhost:8080/",
          "height": 300
        },
        "id": "FA7lRARl1y79",
        "outputId": "18af2e2a-01c5-4dd4-f6e4-8fa20876bd33"
      },
      "execution_count": 35,
      "outputs": [
        {
          "output_type": "execute_result",
          "data": {
            "text/plain": [
              "  entity_group     score           word  start  end\n",
              "0         MISC  0.991749       Echo Dot     25   33\n",
              "1         MISC  0.954872            Gen     39   42\n",
              "2          LOC  0.999402  San Francisco     62   75\n",
              "3          PER  0.995602         Ananya    253  259\n",
              "4          LOC  0.999337      Bangalore    274  283\n",
              "5          ORG  0.704622          Alexa    420  425\n",
              "6          LOC  0.999206      Hyderabad    529  538\n",
              "7          ORG  0.993151         Amazon    572  578"
            ],
            "text/html": [
              "\n",
              "  <div id=\"df-ec3a2e50-e1d4-478e-857c-aa509c673281\" class=\"colab-df-container\">\n",
              "    <div>\n",
              "<style scoped>\n",
              "    .dataframe tbody tr th:only-of-type {\n",
              "        vertical-align: middle;\n",
              "    }\n",
              "\n",
              "    .dataframe tbody tr th {\n",
              "        vertical-align: top;\n",
              "    }\n",
              "\n",
              "    .dataframe thead th {\n",
              "        text-align: right;\n",
              "    }\n",
              "</style>\n",
              "<table border=\"1\" class=\"dataframe\">\n",
              "  <thead>\n",
              "    <tr style=\"text-align: right;\">\n",
              "      <th></th>\n",
              "      <th>entity_group</th>\n",
              "      <th>score</th>\n",
              "      <th>word</th>\n",
              "      <th>start</th>\n",
              "      <th>end</th>\n",
              "    </tr>\n",
              "  </thead>\n",
              "  <tbody>\n",
              "    <tr>\n",
              "      <th>0</th>\n",
              "      <td>MISC</td>\n",
              "      <td>0.991749</td>\n",
              "      <td>Echo Dot</td>\n",
              "      <td>25</td>\n",
              "      <td>33</td>\n",
              "    </tr>\n",
              "    <tr>\n",
              "      <th>1</th>\n",
              "      <td>MISC</td>\n",
              "      <td>0.954872</td>\n",
              "      <td>Gen</td>\n",
              "      <td>39</td>\n",
              "      <td>42</td>\n",
              "    </tr>\n",
              "    <tr>\n",
              "      <th>2</th>\n",
              "      <td>LOC</td>\n",
              "      <td>0.999402</td>\n",
              "      <td>San Francisco</td>\n",
              "      <td>62</td>\n",
              "      <td>75</td>\n",
              "    </tr>\n",
              "    <tr>\n",
              "      <th>3</th>\n",
              "      <td>PER</td>\n",
              "      <td>0.995602</td>\n",
              "      <td>Ananya</td>\n",
              "      <td>253</td>\n",
              "      <td>259</td>\n",
              "    </tr>\n",
              "    <tr>\n",
              "      <th>4</th>\n",
              "      <td>LOC</td>\n",
              "      <td>0.999337</td>\n",
              "      <td>Bangalore</td>\n",
              "      <td>274</td>\n",
              "      <td>283</td>\n",
              "    </tr>\n",
              "    <tr>\n",
              "      <th>5</th>\n",
              "      <td>ORG</td>\n",
              "      <td>0.704622</td>\n",
              "      <td>Alexa</td>\n",
              "      <td>420</td>\n",
              "      <td>425</td>\n",
              "    </tr>\n",
              "    <tr>\n",
              "      <th>6</th>\n",
              "      <td>LOC</td>\n",
              "      <td>0.999206</td>\n",
              "      <td>Hyderabad</td>\n",
              "      <td>529</td>\n",
              "      <td>538</td>\n",
              "    </tr>\n",
              "    <tr>\n",
              "      <th>7</th>\n",
              "      <td>ORG</td>\n",
              "      <td>0.993151</td>\n",
              "      <td>Amazon</td>\n",
              "      <td>572</td>\n",
              "      <td>578</td>\n",
              "    </tr>\n",
              "  </tbody>\n",
              "</table>\n",
              "</div>\n",
              "    <div class=\"colab-df-buttons\">\n",
              "\n",
              "  <div class=\"colab-df-container\">\n",
              "    <button class=\"colab-df-convert\" onclick=\"convertToInteractive('df-ec3a2e50-e1d4-478e-857c-aa509c673281')\"\n",
              "            title=\"Convert this dataframe to an interactive table.\"\n",
              "            style=\"display:none;\">\n",
              "\n",
              "  <svg xmlns=\"http://www.w3.org/2000/svg\" height=\"24px\" viewBox=\"0 -960 960 960\">\n",
              "    <path d=\"M120-120v-720h720v720H120Zm60-500h600v-160H180v160Zm220 220h160v-160H400v160Zm0 220h160v-160H400v160ZM180-400h160v-160H180v160Zm440 0h160v-160H620v160ZM180-180h160v-160H180v160Zm440 0h160v-160H620v160Z\"/>\n",
              "  </svg>\n",
              "    </button>\n",
              "\n",
              "  <style>\n",
              "    .colab-df-container {\n",
              "      display:flex;\n",
              "      gap: 12px;\n",
              "    }\n",
              "\n",
              "    .colab-df-convert {\n",
              "      background-color: #E8F0FE;\n",
              "      border: none;\n",
              "      border-radius: 50%;\n",
              "      cursor: pointer;\n",
              "      display: none;\n",
              "      fill: #1967D2;\n",
              "      height: 32px;\n",
              "      padding: 0 0 0 0;\n",
              "      width: 32px;\n",
              "    }\n",
              "\n",
              "    .colab-df-convert:hover {\n",
              "      background-color: #E2EBFA;\n",
              "      box-shadow: 0px 1px 2px rgba(60, 64, 67, 0.3), 0px 1px 3px 1px rgba(60, 64, 67, 0.15);\n",
              "      fill: #174EA6;\n",
              "    }\n",
              "\n",
              "    .colab-df-buttons div {\n",
              "      margin-bottom: 4px;\n",
              "    }\n",
              "\n",
              "    [theme=dark] .colab-df-convert {\n",
              "      background-color: #3B4455;\n",
              "      fill: #D2E3FC;\n",
              "    }\n",
              "\n",
              "    [theme=dark] .colab-df-convert:hover {\n",
              "      background-color: #434B5C;\n",
              "      box-shadow: 0px 1px 3px 1px rgba(0, 0, 0, 0.15);\n",
              "      filter: drop-shadow(0px 1px 2px rgba(0, 0, 0, 0.3));\n",
              "      fill: #FFFFFF;\n",
              "    }\n",
              "  </style>\n",
              "\n",
              "    <script>\n",
              "      const buttonEl =\n",
              "        document.querySelector('#df-ec3a2e50-e1d4-478e-857c-aa509c673281 button.colab-df-convert');\n",
              "      buttonEl.style.display =\n",
              "        google.colab.kernel.accessAllowed ? 'block' : 'none';\n",
              "\n",
              "      async function convertToInteractive(key) {\n",
              "        const element = document.querySelector('#df-ec3a2e50-e1d4-478e-857c-aa509c673281');\n",
              "        const dataTable =\n",
              "          await google.colab.kernel.invokeFunction('convertToInteractive',\n",
              "                                                    [key], {});\n",
              "        if (!dataTable) return;\n",
              "\n",
              "        const docLinkHtml = 'Like what you see? Visit the ' +\n",
              "          '<a target=\"_blank\" href=https://colab.research.google.com/notebooks/data_table.ipynb>data table notebook</a>'\n",
              "          + ' to learn more about interactive tables.';\n",
              "        element.innerHTML = '';\n",
              "        dataTable['output_type'] = 'display_data';\n",
              "        await google.colab.output.renderOutput(dataTable, element);\n",
              "        const docLink = document.createElement('div');\n",
              "        docLink.innerHTML = docLinkHtml;\n",
              "        element.appendChild(docLink);\n",
              "      }\n",
              "    </script>\n",
              "  </div>\n",
              "\n",
              "\n",
              "    <div id=\"df-8ca9cfa1-2fa6-4f3b-8665-3e31531e0ca4\">\n",
              "      <button class=\"colab-df-quickchart\" onclick=\"quickchart('df-8ca9cfa1-2fa6-4f3b-8665-3e31531e0ca4')\"\n",
              "                title=\"Suggest charts\"\n",
              "                style=\"display:none;\">\n",
              "\n",
              "<svg xmlns=\"http://www.w3.org/2000/svg\" height=\"24px\"viewBox=\"0 0 24 24\"\n",
              "     width=\"24px\">\n",
              "    <g>\n",
              "        <path d=\"M19 3H5c-1.1 0-2 .9-2 2v14c0 1.1.9 2 2 2h14c1.1 0 2-.9 2-2V5c0-1.1-.9-2-2-2zM9 17H7v-7h2v7zm4 0h-2V7h2v10zm4 0h-2v-4h2v4z\"/>\n",
              "    </g>\n",
              "</svg>\n",
              "      </button>\n",
              "\n",
              "<style>\n",
              "  .colab-df-quickchart {\n",
              "      --bg-color: #E8F0FE;\n",
              "      --fill-color: #1967D2;\n",
              "      --hover-bg-color: #E2EBFA;\n",
              "      --hover-fill-color: #174EA6;\n",
              "      --disabled-fill-color: #AAA;\n",
              "      --disabled-bg-color: #DDD;\n",
              "  }\n",
              "\n",
              "  [theme=dark] .colab-df-quickchart {\n",
              "      --bg-color: #3B4455;\n",
              "      --fill-color: #D2E3FC;\n",
              "      --hover-bg-color: #434B5C;\n",
              "      --hover-fill-color: #FFFFFF;\n",
              "      --disabled-bg-color: #3B4455;\n",
              "      --disabled-fill-color: #666;\n",
              "  }\n",
              "\n",
              "  .colab-df-quickchart {\n",
              "    background-color: var(--bg-color);\n",
              "    border: none;\n",
              "    border-radius: 50%;\n",
              "    cursor: pointer;\n",
              "    display: none;\n",
              "    fill: var(--fill-color);\n",
              "    height: 32px;\n",
              "    padding: 0;\n",
              "    width: 32px;\n",
              "  }\n",
              "\n",
              "  .colab-df-quickchart:hover {\n",
              "    background-color: var(--hover-bg-color);\n",
              "    box-shadow: 0 1px 2px rgba(60, 64, 67, 0.3), 0 1px 3px 1px rgba(60, 64, 67, 0.15);\n",
              "    fill: var(--button-hover-fill-color);\n",
              "  }\n",
              "\n",
              "  .colab-df-quickchart-complete:disabled,\n",
              "  .colab-df-quickchart-complete:disabled:hover {\n",
              "    background-color: var(--disabled-bg-color);\n",
              "    fill: var(--disabled-fill-color);\n",
              "    box-shadow: none;\n",
              "  }\n",
              "\n",
              "  .colab-df-spinner {\n",
              "    border: 2px solid var(--fill-color);\n",
              "    border-color: transparent;\n",
              "    border-bottom-color: var(--fill-color);\n",
              "    animation:\n",
              "      spin 1s steps(1) infinite;\n",
              "  }\n",
              "\n",
              "  @keyframes spin {\n",
              "    0% {\n",
              "      border-color: transparent;\n",
              "      border-bottom-color: var(--fill-color);\n",
              "      border-left-color: var(--fill-color);\n",
              "    }\n",
              "    20% {\n",
              "      border-color: transparent;\n",
              "      border-left-color: var(--fill-color);\n",
              "      border-top-color: var(--fill-color);\n",
              "    }\n",
              "    30% {\n",
              "      border-color: transparent;\n",
              "      border-left-color: var(--fill-color);\n",
              "      border-top-color: var(--fill-color);\n",
              "      border-right-color: var(--fill-color);\n",
              "    }\n",
              "    40% {\n",
              "      border-color: transparent;\n",
              "      border-right-color: var(--fill-color);\n",
              "      border-top-color: var(--fill-color);\n",
              "    }\n",
              "    60% {\n",
              "      border-color: transparent;\n",
              "      border-right-color: var(--fill-color);\n",
              "    }\n",
              "    80% {\n",
              "      border-color: transparent;\n",
              "      border-right-color: var(--fill-color);\n",
              "      border-bottom-color: var(--fill-color);\n",
              "    }\n",
              "    90% {\n",
              "      border-color: transparent;\n",
              "      border-bottom-color: var(--fill-color);\n",
              "    }\n",
              "  }\n",
              "</style>\n",
              "\n",
              "      <script>\n",
              "        async function quickchart(key) {\n",
              "          const quickchartButtonEl =\n",
              "            document.querySelector('#' + key + ' button');\n",
              "          quickchartButtonEl.disabled = true;  // To prevent multiple clicks.\n",
              "          quickchartButtonEl.classList.add('colab-df-spinner');\n",
              "          try {\n",
              "            const charts = await google.colab.kernel.invokeFunction(\n",
              "                'suggestCharts', [key], {});\n",
              "          } catch (error) {\n",
              "            console.error('Error during call to suggestCharts:', error);\n",
              "          }\n",
              "          quickchartButtonEl.classList.remove('colab-df-spinner');\n",
              "          quickchartButtonEl.classList.add('colab-df-quickchart-complete');\n",
              "        }\n",
              "        (() => {\n",
              "          let quickchartButtonEl =\n",
              "            document.querySelector('#df-8ca9cfa1-2fa6-4f3b-8665-3e31531e0ca4 button');\n",
              "          quickchartButtonEl.style.display =\n",
              "            google.colab.kernel.accessAllowed ? 'block' : 'none';\n",
              "        })();\n",
              "      </script>\n",
              "    </div>\n",
              "\n",
              "    </div>\n",
              "  </div>\n"
            ],
            "application/vnd.google.colaboratory.intrinsic+json": {
              "type": "dataframe",
              "summary": "{\n  \"name\": \"pd\",\n  \"rows\": 8,\n  \"fields\": [\n    {\n      \"column\": \"entity_group\",\n      \"properties\": {\n        \"dtype\": \"string\",\n        \"num_unique_values\": 4,\n        \"samples\": [\n          \"LOC\",\n          \"ORG\",\n          \"MISC\"\n        ],\n        \"semantic_type\": \"\",\n        \"description\": \"\"\n      }\n    },\n    {\n      \"column\": \"score\",\n      \"properties\": {\n        \"dtype\": \"float32\",\n        \"num_unique_values\": 8,\n        \"samples\": [\n          0.9548715949058533,\n          0.7046223878860474,\n          0.9917486310005188\n        ],\n        \"semantic_type\": \"\",\n        \"description\": \"\"\n      }\n    },\n    {\n      \"column\": \"word\",\n      \"properties\": {\n        \"dtype\": \"string\",\n        \"num_unique_values\": 8,\n        \"samples\": [\n          \"Gen\",\n          \"Alexa\",\n          \"Echo Dot\"\n        ],\n        \"semantic_type\": \"\",\n        \"description\": \"\"\n      }\n    },\n    {\n      \"column\": \"start\",\n      \"properties\": {\n        \"dtype\": \"number\",\n        \"std\": 219,\n        \"min\": 25,\n        \"max\": 572,\n        \"num_unique_values\": 8,\n        \"samples\": [\n          39,\n          420,\n          25\n        ],\n        \"semantic_type\": \"\",\n        \"description\": \"\"\n      }\n    },\n    {\n      \"column\": \"end\",\n      \"properties\": {\n        \"dtype\": \"number\",\n        \"std\": 219,\n        \"min\": 33,\n        \"max\": 578,\n        \"num_unique_values\": 8,\n        \"samples\": [\n          42,\n          425,\n          33\n        ],\n        \"semantic_type\": \"\",\n        \"description\": \"\"\n      }\n    }\n  ]\n}"
            }
          },
          "metadata": {},
          "execution_count": 35
        }
      ]
    },
    {
      "cell_type": "markdown",
      "source": [
        "Translation"
      ],
      "metadata": {
        "id": "n59st9pmNfGj"
      }
    },
    {
      "cell_type": "code",
      "source": [
        "# translation from english to hindi"
      ],
      "metadata": {
        "id": "h5Nl9LXI2RQX"
      },
      "execution_count": 36,
      "outputs": []
    },
    {
      "cell_type": "code",
      "source": [
        "translator = pipeline(\"translation_en_to_hi\",model=\"Helsinki-NLP/opus-mt-en-hi\")"
      ],
      "metadata": {
        "colab": {
          "base_uri": "https://localhost:8080/",
          "height": 325,
          "referenced_widgets": [
            "5b9bc4db0ea34d4d965b9636bafbe198",
            "1e7d2eef39034aef842994835d7974c6",
            "d75527cb026c4da6b784ae099ec8a96f",
            "3c0a339c3aab4fd19270052ee79ca0ce",
            "0990eac57e1249d591b34c12c6e863c8",
            "53489c8bee4547169137bae08defc735",
            "3d46dc84d74a408292857a1fc389fe27",
            "47037a12b2d44ca98ba8e910c2473002",
            "dae795d45cc84e5ba6bee012ebffdebc",
            "420ef3800795417d87d6b61a54d571a8",
            "27dcf6a3aeb4471f8a592333c481fe38",
            "9dae1a2fe0bd4c7db6059920ab08074e",
            "56016a76890f45f78816ceef4a6a222b",
            "f65c8f6e7a4148689c6531204d6f4219",
            "a666b7a3167d4b6c9b0fb83684642ca4",
            "af12d4321f6d475d9964abea2c83220e",
            "9113a718b78b4299b421f221e0a58510",
            "a84ddc8e515646cd8b43ee70c5d0ae5e",
            "46df8e955c384764bfb4b7fb9a884c35",
            "7d9f49dad5bb4f3a8334bd167aa1e76f",
            "f03b92cbc6e24ecf85a821a342740b98",
            "c60260c287e546bda89640f0fc53be21",
            "762577147fcb47dda70b06479f21f4f8",
            "64f97fdafecf4f92aff44f274190dec4",
            "cee3c8d8cb9d483fa4a497059feddb76",
            "9da873aa28e0482b9eaa20d624f1852b",
            "de02609b19ef4ee08cf6471aa1717af4",
            "74f129061bae4dcc84501ef71510048f",
            "c39d3ad671354e3c95aaf1cb240061c8",
            "d9851f54ecf74cbb88d9a162c2946d37",
            "49dac0965cb949d0af8526d8a1bf5a98",
            "1d4ef5120cbb44a2975f95234517c66f",
            "2b2ef41fffa9465488811214427f5789",
            "85baf0fff0ee4668a0ee5d13baac886b",
            "fc926026fc5e4e6c86751b1ac4d5270c",
            "bbbb587e517641acb01e57b12b69536a",
            "40dad8195ea2492b84fc201e90098dee",
            "34b980ef88a34c0388b96750a52856c1",
            "d72108481d6c48519ec6a56858a57ba4",
            "41cede7a49ff4f84b8bcfd1986c1be2f",
            "9fd13d30df7c491282d175414c4cc8fa",
            "dfb6efd4c05547c9a598f611f600e894",
            "299a256e72fc4e1eb2b9787222949bee",
            "59018245a35543d295eb61eaf3356db3",
            "ca3e5647eaa640a697a198c9d5b69489",
            "16aff0665d364ff682e21f3c2f335dfe",
            "c6bb8de0b946422fb1702f86f124f800",
            "0d02aa30af3b448aadcc2da6e5a8ae7a",
            "7868127715a64621b8e61b440a823c9f",
            "c315b2e9d32344b4be473f5324e74ff9",
            "0146bd23d54946c7b5d16778d0c5c0e5",
            "8434ce171ab34d4181abbc12546ef218",
            "fd58893e336e491e9bd44084b3135da3",
            "08b1242f42754c8fa76c38d18953624c",
            "f42939ef0b9244ac80e517e170796577",
            "6419d32e9313499b85f8567819a53d14",
            "f0943078d75748aba3065c26d51018ac",
            "19c9987ce85b47259cbcb366e2def43f",
            "cffae5f211674c9c9d509ba554dca7aa",
            "8a72f3d438e84f089adb6ec0362d4d8a",
            "2c6ff65ae84646529e1a6473df3601f0",
            "4232a623700a47cc98e06300d6537cfb",
            "0537c170e2214a11b1aadee3808ce148",
            "0c5b1039216e48e580a99f70bb8a6fbb",
            "fa0b517f5e344bd3b8c611267e3616f1",
            "713edfbabb5b425c978f78c02deb6c70",
            "6963b4b44779442d95db3de7d411cc10",
            "f3a059fff6bf4e27b99ce96b34c21e54",
            "43a2f2aaab084a3fb4c222b3caa2dd51",
            "e9fb29241a33493eb6c8f01567ae9a93",
            "6b45afcedf504efb9ede9fe40c3d973c",
            "2aacca55b122440da4053a2887768789",
            "6d92e69abeda4762a9f4a91f65e6fe2c",
            "24335cbaeace4a83a4ab9fc14b855c63",
            "540c1b697c7d474fa49905e1425989b0",
            "bc034ed1e1ac42d696cb077ec42c7420",
            "0075667fb93b4491a53652bbada0f842",
            "c4eb8fc141014b8984920f78ea652e88",
            "015a5d664a054366af0710327319a651",
            "d759e31ed0244849ad361f0e7be021e2",
            "afc3ef05779d41b0994993fd3a949bb8",
            "060c1ba6d9954a64a47af973b367777f",
            "229dbcf25a2e4238814ca301b8547a66",
            "1959fa37705346eb9048e14541811127",
            "e77c95c635944736a4fc4019d05dd6c4",
            "117da1aac3e4443fa07ec04f0da88e2f",
            "b1f73068e87f4ecb88d55ec502ce5c0c",
            "e70110c7c50340ad8a1949ec11704d6f"
          ]
        },
        "id": "GHYDn_31-wTf",
        "outputId": "83543214-5f14-4278-f707-9c6a30f24c62"
      },
      "execution_count": 37,
      "outputs": [
        {
          "output_type": "display_data",
          "data": {
            "text/plain": [
              "config.json: 0.00B [00:00, ?B/s]"
            ],
            "application/vnd.jupyter.widget-view+json": {
              "version_major": 2,
              "version_minor": 0,
              "model_id": "5b9bc4db0ea34d4d965b9636bafbe198"
            }
          },
          "metadata": {}
        },
        {
          "output_type": "display_data",
          "data": {
            "text/plain": [
              "pytorch_model.bin:   0%|          | 0.00/306M [00:00<?, ?B/s]"
            ],
            "application/vnd.jupyter.widget-view+json": {
              "version_major": 2,
              "version_minor": 0,
              "model_id": "9dae1a2fe0bd4c7db6059920ab08074e"
            }
          },
          "metadata": {}
        },
        {
          "output_type": "display_data",
          "data": {
            "text/plain": [
              "model.safetensors:   0%|          | 0.00/306M [00:00<?, ?B/s]"
            ],
            "application/vnd.jupyter.widget-view+json": {
              "version_major": 2,
              "version_minor": 0,
              "model_id": "762577147fcb47dda70b06479f21f4f8"
            }
          },
          "metadata": {}
        },
        {
          "output_type": "display_data",
          "data": {
            "text/plain": [
              "generation_config.json:   0%|          | 0.00/293 [00:00<?, ?B/s]"
            ],
            "application/vnd.jupyter.widget-view+json": {
              "version_major": 2,
              "version_minor": 0,
              "model_id": "85baf0fff0ee4668a0ee5d13baac886b"
            }
          },
          "metadata": {}
        },
        {
          "output_type": "display_data",
          "data": {
            "text/plain": [
              "tokenizer_config.json:   0%|          | 0.00/44.0 [00:00<?, ?B/s]"
            ],
            "application/vnd.jupyter.widget-view+json": {
              "version_major": 2,
              "version_minor": 0,
              "model_id": "ca3e5647eaa640a697a198c9d5b69489"
            }
          },
          "metadata": {}
        },
        {
          "output_type": "display_data",
          "data": {
            "text/plain": [
              "source.spm:   0%|          | 0.00/812k [00:00<?, ?B/s]"
            ],
            "application/vnd.jupyter.widget-view+json": {
              "version_major": 2,
              "version_minor": 0,
              "model_id": "6419d32e9313499b85f8567819a53d14"
            }
          },
          "metadata": {}
        },
        {
          "output_type": "display_data",
          "data": {
            "text/plain": [
              "target.spm:   0%|          | 0.00/1.07M [00:00<?, ?B/s]"
            ],
            "application/vnd.jupyter.widget-view+json": {
              "version_major": 2,
              "version_minor": 0,
              "model_id": "6963b4b44779442d95db3de7d411cc10"
            }
          },
          "metadata": {}
        },
        {
          "output_type": "display_data",
          "data": {
            "text/plain": [
              "vocab.json: 0.00B [00:00, ?B/s]"
            ],
            "application/vnd.jupyter.widget-view+json": {
              "version_major": 2,
              "version_minor": 0,
              "model_id": "c4eb8fc141014b8984920f78ea652e88"
            }
          },
          "metadata": {}
        },
        {
          "output_type": "stream",
          "name": "stderr",
          "text": [
            "/usr/local/lib/python3.11/dist-packages/transformers/models/marian/tokenization_marian.py:175: UserWarning: Recommended: pip install sacremoses.\n",
            "  warnings.warn(\"Recommended: pip install sacremoses.\")\n",
            "Device set to use cpu\n"
          ]
        }
      ]
    },
    {
      "cell_type": "code",
      "source": [
        "print(translator(text)[0][\"translation_text\"])"
      ],
      "metadata": {
        "colab": {
          "base_uri": "https://localhost:8080/"
        },
        "id": "02FdqEZ47Esy",
        "outputId": "022b8aa0-dc74-4642-f80e-d74a4110ba80"
      },
      "execution_count": 38,
      "outputs": [
        {
          "output_type": "stream",
          "name": "stdout",
          "text": [
            "\u092e\u0948\u0902\u0928\u0947 \u0939\u093e\u0932 \u0939\u0940 \u092e\u0947\u0902 \u0907\u0915\u094b\u0928\u0926\u094b\u091f (5\u0935\u093e\u0901 \u091c\u0947\u0928) \u0916\u0930\u0940\u0926 \u0932\u093f\u092f\u093e \u0939\u0948 \u0938\u0948\u0928 \u092b\u094d\u0930\u093e\u0902\u0938\u093f\u0938\u094d\u0915\u094b \u0915\u0947 \u0932\u093f\u090f, \u0914\u0930 \u092e\u0948\u0902 \u0915\u0939\u0928\u093e \u091a\u093e\u0939\u093f\u090f, \u092f\u0939 \u092e\u0947\u0930\u0940 \u0905\u092a\u0947\u0915\u094d\u0937\u093e\u0913\u0902 \u0938\u0947 \u0905\u0927\u093f\u0915 \u092c\u0921\u093c\u093e \u0939\u0948. \u091c\u0948\u0938\u0947 \u0915\u094b\u0908 \u091c\u094b \u0915\u092d\u0940 \u092f\u093e\u0924\u094d\u0930\u093e \u0915\u0930\u0924\u093e \u0939\u0948, \u090f\u0915 \u092a\u0915\u094d\u0915\u093e \u0938\u094d\u092e\u093e\u0930\u094d\u091f \u0938\u094d\u092a\u0940\u0915\u0930 \u0939\u0948 \u0915\u093f \u0907\u0938 \u0924\u0930\u0939 \u0915\u0947 \u092c\u093e\u0930\u0947 \u092e\u0947\u0902 \u0905\u0938\u093e\u0927\u093e\u0930\u0923 \u0930\u0942\u092a \u0938\u0947 \u0915\u093f\u092f\u093e \u0917\u092f\u093e \u0939\u0948. \u092e\u0947\u0930\u0947 \u0926\u094b\u0938\u094d\u0924 \u090f. \u092e\u0947\u0930\u0940 \u0926\u094b\u0938\u094d\u0924 \u090f. \u090f. \u090f. \u090f\u0928. \u090f. \u090f. \u090f. \u090f. \u090f., \u091c\u094b \u092d\u0940 \u092e\u0941\u091d\u0947 \u092f\u0939 \u0915\u0930\u0928\u0947 \u0915\u0947 \u0932\u093f\u090f \u0938\u0941\u091d\u093e\u0935 \u0926\u0947\u0924\u093e \u0939\u0948 \u0915\u093f \u092f\u0939 \u092e\u0941\u091d\u0947 \u0907\u0938\u0915\u0947 \u092c\u093e\u0930\u0947 \u092e\u0947\u0902 \u092c\u093e\u0924 \u0915\u0930\u0928\u0947 \u0915\u0947 \u0932\u093f\u090f \u0938\u0941\u091d\u093e\u0935 \u0926\u093f\u092f\u093e \u0939\u0948 \u0915\u093f \u092f\u0939 \u090f\u0915 \u092c\u0922\u093c\u093f\u092f\u093e \u0917\u0941\u0923 \u0939\u0948.\n"
          ]
        }
      ]
    },
    {
      "cell_type": "markdown",
      "source": [
        "Questioning-Answering"
      ],
      "metadata": {
        "id": "lSQLFva6NwUA"
      }
    },
    {
      "cell_type": "code",
      "source": [
        "qabot = pipeline(\"question-answering\")\n",
        "question = \"What are the locations names?\"\n",
        "qabot(question=question,context=text)"
      ],
      "metadata": {
        "colab": {
          "base_uri": "https://localhost:8080/",
          "height": 319,
          "referenced_widgets": [
            "833251c2e57349319b3c9e51afc88a31",
            "18cc1b4d24514a7588cb1dfa5341e7c9",
            "47d8059c7a0e4056843d1e66f5e6f154",
            "ef9591b187ee4d74bebda9002a236cbe",
            "27f875b55a18407bb3f04e9fbc41e36b",
            "21e7a525a17e44be867121ebb8605f74",
            "eb83b78c22f046bc8db703fb132a0047",
            "0e6d5e4ff16d4ff3b1b224e794206dd1",
            "aefce9259e304d50930329367242d383",
            "1dbef9e49adc4f49b82ec55569745420",
            "aa82ec96bb2a4c4fa39db377ba64e623",
            "0f9766e7afa149a6a05e1ba5166ea775",
            "227a01b0f0cf493c953130c08b85b67a",
            "5c74b9dd37f843b19e4b87ef765fa7e0",
            "94d5900720ea40eeae8c9055326b7cf5",
            "11e14bde142e4b53a48ad5a4d866aad7",
            "528729cb76de4014a99cc3afd7349db2",
            "28517ab9ebdf451498c9fcfa7552fff5",
            "fe58848a32d94b59ab38e1dcd363e138",
            "726c9ff3dffb4ca8aa642ba6cecff7a3",
            "6ce62d160699461eae6210e687b3c116",
            "41fa2567545d439e910c1e2129e0a609",
            "36e967e0e05c43828f545a31cc478ced",
            "f240a839923b46f79320b06fa3c5ccf0",
            "00d52f9530274a319888b2ae4ad3fd88",
            "c1aaf468a42a49969cab9ecc514e6c9c",
            "1d1c2b114b9a4474aeec697d4e73f5e8",
            "35344196d50b45baa0e0d1cb644d8569",
            "1d931af5073e480d9d638dd7a6fd76e2",
            "91c3bfb77ce548c38c70d4a5d12ff662",
            "09a2a25cb99a4e9a9b4dacae947251e6",
            "2348437164f74e38815d259ca92dad7f",
            "6e11a24f184f4341a91cce72c306b7f1",
            "664a6ef04a4746679c850dd5ea6cdb4c",
            "59646e8df2564169ba3d854d7d35e80a",
            "dc58edfe6c2245f0bf02ed827ba5b185",
            "18b049b5140844bd907a0ae6d21ad1ff",
            "0f3d0db5128148e3b259a73ac3f81f58",
            "6e9bc307b410463d9d2c53a1b1e17cb0",
            "a6df351ca451421887dd21c23191e403",
            "a4a8100eacfd4d898877ff30d2d75803",
            "82a2b9073e0d4e79a3372b8c433f6d1d",
            "f6e6443612274939945b3946f9711c86",
            "313a1fc2ccd94b469bdb631a6da8be02",
            "74113358550e46288bde243f343ffa0e",
            "21272392a4eb44049dc63e023b222ff6",
            "7b43020a0d1f4f43a2bbc1b61d651acf",
            "cf15e0ee7a534bdcbf90ac7f8fa88b8a",
            "04a35ee39d8a42a9b47c76c0b4a8c1fa",
            "1008ead5089e4fbeb6d4059225bf85d1",
            "8e203a0479b646d18001168297840b72",
            "16c07019f1564f3492f63556aae97ee3",
            "1dc918e9871645acb1fd1a03f30e22c0",
            "dd48e67b0759495399e80cb2d8af85ac",
            "2f1bab89b71c4ab5b363f8892cab2fd2"
          ]
        },
        "id": "GR3eRT67_PWK",
        "outputId": "6f8101d2-c81e-4745-f997-d23261ed6824"
      },
      "execution_count": 39,
      "outputs": [
        {
          "output_type": "stream",
          "name": "stderr",
          "text": [
            "No model was supplied, defaulted to distilbert/distilbert-base-cased-distilled-squad and revision 564e9b5 (https://huggingface.co/distilbert/distilbert-base-cased-distilled-squad).\n",
            "Using a pipeline without specifying a model name and revision in production is not recommended.\n"
          ]
        },
        {
          "output_type": "display_data",
          "data": {
            "text/plain": [
              "config.json:   0%|          | 0.00/473 [00:00<?, ?B/s]"
            ],
            "application/vnd.jupyter.widget-view+json": {
              "version_major": 2,
              "version_minor": 0,
              "model_id": "833251c2e57349319b3c9e51afc88a31"
            }
          },
          "metadata": {}
        },
        {
          "output_type": "display_data",
          "data": {
            "text/plain": [
              "model.safetensors:   0%|          | 0.00/261M [00:00<?, ?B/s]"
            ],
            "application/vnd.jupyter.widget-view+json": {
              "version_major": 2,
              "version_minor": 0,
              "model_id": "0f9766e7afa149a6a05e1ba5166ea775"
            }
          },
          "metadata": {}
        },
        {
          "output_type": "display_data",
          "data": {
            "text/plain": [
              "tokenizer_config.json:   0%|          | 0.00/49.0 [00:00<?, ?B/s]"
            ],
            "application/vnd.jupyter.widget-view+json": {
              "version_major": 2,
              "version_minor": 0,
              "model_id": "36e967e0e05c43828f545a31cc478ced"
            }
          },
          "metadata": {}
        },
        {
          "output_type": "display_data",
          "data": {
            "text/plain": [
              "vocab.txt: 0.00B [00:00, ?B/s]"
            ],
            "application/vnd.jupyter.widget-view+json": {
              "version_major": 2,
              "version_minor": 0,
              "model_id": "664a6ef04a4746679c850dd5ea6cdb4c"
            }
          },
          "metadata": {}
        },
        {
          "output_type": "display_data",
          "data": {
            "text/plain": [
              "tokenizer.json: 0.00B [00:00, ?B/s]"
            ],
            "application/vnd.jupyter.widget-view+json": {
              "version_major": 2,
              "version_minor": 0,
              "model_id": "74113358550e46288bde243f343ffa0e"
            }
          },
          "metadata": {}
        },
        {
          "output_type": "stream",
          "name": "stderr",
          "text": [
            "Device set to use cpu\n"
          ]
        },
        {
          "output_type": "execute_result",
          "data": {
            "text/plain": [
              "{'score': 0.6545946002006531,\n",
              " 'start': 25,\n",
              " 'end': 43,\n",
              " 'answer': 'Echo Dot (5th Gen)'}"
            ]
          },
          "metadata": {},
          "execution_count": 39
        }
      ]
    },
    {
      "cell_type": "code",
      "source": [
        "question = \"Who is the article about?\"\n",
        "print(qabot(question=question,context=article))"
      ],
      "metadata": {
        "colab": {
          "base_uri": "https://localhost:8080/"
        },
        "id": "2wV9RrLf_29F",
        "outputId": "95e08648-920c-41ce-e7ee-3f6e7afe546c"
      },
      "execution_count": 40,
      "outputs": [
        {
          "output_type": "stream",
          "name": "stdout",
          "text": [
            "{'score': 1.226208657026291, 'start': 74, 'end': 89, 'answer': 'APJ Abdul Kalam'}\n"
          ]
        }
      ]
    },
    {
      "cell_type": "code",
      "source": [
        "story = \"\"\"One sunny afternoon, a tourist was wandering through a forest, enjoying the peace and greenery.\n",
        "Suddenly, he noticed a monkey sitting on a branch \u2014 not unusual \u2014 but the monkey was holding a smartphone!\n",
        "Surprised and a little confused, the tourist walked closer and asked, \u201cHey! What are you doing with my phone?\u201d\n",
        "The monkey looked up calmly, smiled, and without saying a word, took a selfie. Then, to the tourist\u2019s shock, it started tapping on the screen like an expert.\n",
        "After a few seconds, the monkey turned the screen around. It had just posted a picture on Instagram with the caption:\n",
        "\u201cJust updating my Instagram. #JungleVibes\u201d\n",
        "The tourist was speechless.\n",
        "The monkey gave him a playful wink and said,\n",
        "\u201cDon\u2019t worry. I only follow bananas.\u201d \"\"\""
      ],
      "metadata": {
        "id": "wnCtV4ZJAqMi"
      },
      "execution_count": 41,
      "outputs": []
    },
    {
      "cell_type": "markdown",
      "source": [
        "Create a Gradio Application for Question-Answering"
      ],
      "metadata": {
        "id": "zF9o1T63OBjr"
      }
    },
    {
      "cell_type": "code",
      "source": [
        "import gradio as gr"
      ],
      "metadata": {
        "id": "ZInMzupUBwEp"
      },
      "execution_count": 42,
      "outputs": []
    },
    {
      "cell_type": "code",
      "source": [
        "def funny(question):\n",
        "  return qabot(question=question,context=story)[\"answer\"]"
      ],
      "metadata": {
        "id": "lG9Ko0q2B1r4"
      },
      "execution_count": 43,
      "outputs": []
    },
    {
      "cell_type": "code",
      "source": [
        "demo2 = gr.Interface(fn=funny, inputs=\"text\", outputs=\"text\", title=\"Q and A game\")"
      ],
      "metadata": {
        "id": "9qiuMHCMCC2U"
      },
      "execution_count": 44,
      "outputs": []
    },
    {
      "cell_type": "code",
      "source": [
        "demo2.launch()"
      ],
      "metadata": {
        "colab": {
          "base_uri": "https://localhost:8080/",
          "height": 646
        },
        "id": "hC7nIZ44CYNZ",
        "outputId": "78e8e67f-f5a2-4b11-9747-2689104f5e4e"
      },
      "execution_count": 45,
      "outputs": [
        {
          "output_type": "stream",
          "name": "stdout",
          "text": [
            "It looks like you are running Gradio on a hosted a Jupyter notebook. For the Gradio app to work, sharing must be enabled. Automatically setting `share=True` (you can turn this off by setting `share=False` in `launch()` explicitly).\n",
            "\n",
            "Colab notebook detected. To show errors in colab notebook, set debug=True in launch()\n",
            "* Running on public URL: https://15430b04428b47fffe.gradio.live\n",
            "\n",
            "This share link expires in 1 week. For free permanent hosting and GPU upgrades, run `gradio deploy` from the terminal in the working directory to deploy to Hugging Face Spaces (https://huggingface.co/spaces)\n"
          ]
        },
        {
          "output_type": "display_data",
          "data": {
            "text/plain": [
              "<IPython.core.display.HTML object>"
            ],
            "text/html": [
              "<div><iframe src=\"https://15430b04428b47fffe.gradio.live\" width=\"100%\" height=\"500\" allow=\"autoplay; camera; microphone; clipboard-read; clipboard-write;\" frameborder=\"0\" allowfullscreen></iframe></div>"
            ]
          },
          "metadata": {}
        },
        {
          "output_type": "execute_result",
          "data": {
            "text/plain": []
          },
          "metadata": {},
          "execution_count": 45
        }
      ]
    },
    {
      "cell_type": "markdown",
      "source": [
        "Creating a vanila chatbot"
      ],
      "metadata": {
        "id": "rR1IbuIVOUxg"
      }
    },
    {
      "cell_type": "code",
      "source": [
        "chatbot = pipeline(\"text2text-generation\", model=\"facebook/blenderbot-400M-distill\")"
      ],
      "metadata": {
        "colab": {
          "base_uri": "https://localhost:8080/",
          "height": 354,
          "referenced_widgets": [
            "9443f21556c8449596552ccae4b5ba38",
            "bd62ec44767d48ac95bff94e86b1c1e4",
            "a5f7e1f548ab4982909091ab3363a817",
            "1efcd03e37da4595ab75ac4e4fabc850",
            "312e0b6240dd47fa87799f93f94c24ce",
            "6eb04226cb614fa2854a695395bcf920",
            "432a33351038451d8558c9e93fbbe6e1",
            "c63b30bf47324060b95c2eb5ec564998",
            "ec071c4e49ae4a19906cb0b83f2c8ce1",
            "7ee5f14e6a5643d9a3b2d94369bfec8c",
            "e979687656c847ac9b1bcde9f0fc79ce",
            "588acd6c9f294a5a9b331ad13494f630",
            "5d83538087ba40bb8181f9961afc97b8",
            "b17232a733494b48a0b9e55a33273123",
            "b963dccc0fc046e183f5e9f770708c16",
            "00372daf52c241b2a9740253f40b051d",
            "8a2b14ad8306424cba189cc4a4e38fc0",
            "b0fb94900610453785c626e52ea5fbeb",
            "498d8f2f471d43ebb9cd20b0d2d22146",
            "a9b901c8b1f34ff491686af555405b9d",
            "d0f7916bf7f54292b1af8248c175f52d",
            "9c455fe529d942f7a0cb5fe4922c1273",
            "bc682e8e65c6482abcf355eae2d06dbb",
            "53d60acb43f5471db25e51ba271d219e",
            "7f51bdf5d3af46b1af3e8fe6f6328b75",
            "436ca29b170849399906cb084b6fac16",
            "eed1c067f5d7403da59b4641474f9a16",
            "6979fe00b000423aa5f3eacd073b77b7",
            "236274d804ba4a39b294deed4faef292",
            "e3f141db34b7492f937b7b735f34cff7",
            "ef04cbc900e0435b9d4b90355f631903",
            "89a66d94679e44519f81e2083fecde68",
            "c44328752b114c648dafa24c045b0f4b",
            "a9cc0009162543e3a3b110be43553560",
            "2a78bbcbbd404f078250f15b997c4338",
            "3da75d9cacc845a1be5b201b59c1b245",
            "7f4cca74f3254060a5b03dfee18f13dc",
            "e39b214369324f03aff7db08c0e6db27",
            "52635820fff34e378ff6420171e111ed",
            "83a21434460648b18d22a7c2a37c7079",
            "df462941c61a4fc6af04e22279e41aff",
            "44d47901e6434361962f87f7c3a8d22e",
            "78eb3d49c82c4f1db7990c739dde7456",
            "74a4bc8fba1f4c44be68a185c4a4ca1c",
            "2cf1e8640d9c463cb2f3e3c5b307c589",
            "23148017872346f08bc9b0746af1e9ba",
            "dae2178821e5454e8e9e9d5fdfef8a9a",
            "55bacc64db2a479e919199139c65bed1",
            "27964a04bdec43b8a22857e91a8fb913",
            "2f726cd2010448ee95d0b8ac452e43f7",
            "63a52dd47f71415795030f047f5258d7",
            "eb79c2f0d26045a5acf680cb97a09762",
            "13205b5a1c9f44e4b53a2e8b9d6dc7fd",
            "bd10c063b14b48c7b55d111c9c602059",
            "910b6b48a8f54da39f2162516f1caf65",
            "4654b4504ff340bf9e3748caaf2eb44e",
            "a698d02735f44b3a8a9adcad9a93cdca",
            "387723010f834723ba6ef00da8109142",
            "31720dd2e7184910a82c8cefd70667b6",
            "be26be9d9a4a4b59bfdedc10609c7f68",
            "4bf4d1296b53467a9580b5aadf342821",
            "94eddf5cf75b4c1687709bf10ca85b85",
            "59100308469743f8a1e85905e40aa6b9",
            "efcbfa9b56d74b8bbd3c489cb31b88e4",
            "1e946e9d64944f90afc73e5552cc6a5e",
            "bab824530096494985c03fad9e197347",
            "63003c8729694804aba1a7ef6a17ac72",
            "f24d736c80134ab6b9a4596e70cc6acb",
            "806fca818c9048d0b65a403d65233b53",
            "9d603cb464d94ef48b2e1382ddc62f85",
            "26d8f87fc74e4cc395b4580e34c49db2",
            "568ebd593e4f42e69df782ff1a9e790d",
            "fac60277ed0549d0b250b6600adb0c09",
            "33f05b0c195e49f684055fc892199063",
            "7686e300116f437b92f3d826a1c182da",
            "22d4db9ce12b498ca55433b896ee4eb4",
            "c4fa447ed5624b5fa35ac0ad9cc504c6",
            "8319eae3f3064bd6a1a1021b5ee2d660",
            "1b727752e77b42a1a0451659c88923e2",
            "610372b87e7d4d98ad989328d87f006e",
            "6e614ba300144f339196fe6950241676",
            "c4e86fdcec974b5a9271da89b242dee0",
            "f65c10ad58f24cb48e2466046d23bb41",
            "a3f297fdc9854a4fbeaf052e2a18fd95",
            "2b7f393fd8e84254af44edadc1f03620",
            "baf71e2e79044b0484a8f0ab93bbd9f7",
            "099b39b70ed5414fb6f0cc10f3da5de1",
            "40fd8bc556a846b299e63ec8157f9722",
            "caea496ed3bf4b47942ebfdc9b478be6",
            "a78cd5f1bdea402a81a998f0c47b923e",
            "c1704c80c07441d6bdcbba21673c1f06",
            "1811fed04f654788b622af5b10e03f05",
            "5992d13aa6cd4aa7b6cc0b4fc8af6f56",
            "115be7709e854d46a63928f40718030d",
            "6340e8c84782464290a6e29099f2ed28",
            "627cfb7a1f9f4f73b72a4b105f484fc4",
            "423c232732e04e3e8c07bcb4f7a243d2",
            "36a182bf11f6442aa65f33f73b96d3a8",
            "882f33daeef64754b401b5619bf56c39",
            "d3087f917e804bbdbd0bb131becfe77a",
            "aa8a2ad6c09f499cb56886314813807e",
            "4220a6c97ea542439352a82609d01019",
            "f96586c659634385b7e37be11222bfd2",
            "77d429ebcb9b4c1ab076966d50ac4695",
            "3b81a3117b9d4c6ba226ae1f0d170a8c",
            "dc9d0f8c3f804fbbab5a879c213fe625",
            "c77b6fd62fc948eca482aa01025292fe",
            "16c7432da55948488fef9bfe59dfc0f8",
            "fc4890b40dad46b98678df424f5ac400",
            "d4fcb1a524b74186ae2e9576cec8202c"
          ]
        },
        "id": "nqLOQWm_GEUa",
        "outputId": "7f40214c-d93d-4fac-8f39-20be6212693c"
      },
      "execution_count": 47,
      "outputs": [
        {
          "output_type": "display_data",
          "data": {
            "text/plain": [
              "config.json: 0.00B [00:00, ?B/s]"
            ],
            "application/vnd.jupyter.widget-view+json": {
              "version_major": 2,
              "version_minor": 0,
              "model_id": "9443f21556c8449596552ccae4b5ba38"
            }
          },
          "metadata": {}
        },
        {
          "output_type": "display_data",
          "data": {
            "text/plain": [
              "pytorch_model.bin:   0%|          | 0.00/730M [00:00<?, ?B/s]"
            ],
            "application/vnd.jupyter.widget-view+json": {
              "version_major": 2,
              "version_minor": 0,
              "model_id": "588acd6c9f294a5a9b331ad13494f630"
            }
          },
          "metadata": {}
        },
        {
          "output_type": "display_data",
          "data": {
            "text/plain": [
              "model.safetensors:   0%|          | 0.00/730M [00:00<?, ?B/s]"
            ],
            "application/vnd.jupyter.widget-view+json": {
              "version_major": 2,
              "version_minor": 0,
              "model_id": "bc682e8e65c6482abcf355eae2d06dbb"
            }
          },
          "metadata": {}
        },
        {
          "output_type": "display_data",
          "data": {
            "text/plain": [
              "generation_config.json:   0%|          | 0.00/347 [00:00<?, ?B/s]"
            ],
            "application/vnd.jupyter.widget-view+json": {
              "version_major": 2,
              "version_minor": 0,
              "model_id": "a9cc0009162543e3a3b110be43553560"
            }
          },
          "metadata": {}
        },
        {
          "output_type": "display_data",
          "data": {
            "text/plain": [
              "tokenizer_config.json: 0.00B [00:00, ?B/s]"
            ],
            "application/vnd.jupyter.widget-view+json": {
              "version_major": 2,
              "version_minor": 0,
              "model_id": "2cf1e8640d9c463cb2f3e3c5b307c589"
            }
          },
          "metadata": {}
        },
        {
          "output_type": "display_data",
          "data": {
            "text/plain": [
              "vocab.json: 0.00B [00:00, ?B/s]"
            ],
            "application/vnd.jupyter.widget-view+json": {
              "version_major": 2,
              "version_minor": 0,
              "model_id": "4654b4504ff340bf9e3748caaf2eb44e"
            }
          },
          "metadata": {}
        },
        {
          "output_type": "display_data",
          "data": {
            "text/plain": [
              "merges.txt: 0.00B [00:00, ?B/s]"
            ],
            "application/vnd.jupyter.widget-view+json": {
              "version_major": 2,
              "version_minor": 0,
              "model_id": "63003c8729694804aba1a7ef6a17ac72"
            }
          },
          "metadata": {}
        },
        {
          "output_type": "display_data",
          "data": {
            "text/plain": [
              "added_tokens.json:   0%|          | 0.00/16.0 [00:00<?, ?B/s]"
            ],
            "application/vnd.jupyter.widget-view+json": {
              "version_major": 2,
              "version_minor": 0,
              "model_id": "8319eae3f3064bd6a1a1021b5ee2d660"
            }
          },
          "metadata": {}
        },
        {
          "output_type": "display_data",
          "data": {
            "text/plain": [
              "special_tokens_map.json:   0%|          | 0.00/772 [00:00<?, ?B/s]"
            ],
            "application/vnd.jupyter.widget-view+json": {
              "version_major": 2,
              "version_minor": 0,
              "model_id": "caea496ed3bf4b47942ebfdc9b478be6"
            }
          },
          "metadata": {}
        },
        {
          "output_type": "display_data",
          "data": {
            "text/plain": [
              "tokenizer.json: 0.00B [00:00, ?B/s]"
            ],
            "application/vnd.jupyter.widget-view+json": {
              "version_major": 2,
              "version_minor": 0,
              "model_id": "d3087f917e804bbdbd0bb131becfe77a"
            }
          },
          "metadata": {}
        },
        {
          "output_type": "stream",
          "name": "stderr",
          "text": [
            "Device set to use cpu\n"
          ]
        }
      ]
    },
    {
      "cell_type": "code",
      "source": [
        "chatbot(\"Hi, How is the weather in india?\")"
      ],
      "metadata": {
        "colab": {
          "base_uri": "https://localhost:8080/",
          "height": 34
        },
        "id": "qgG3o9-jIQ7t",
        "outputId": "8855215d-a63b-43dc-e193-536626146691"
      },
      "execution_count": 48,
      "outputs": [
        {
          "output_type": "execute_result",
          "data": {
            "text/plain": [
              "[{'generated_text': ' It is very hot and humid. How about in your part of the world? Do you like it there?'}]"
            ]
          },
          "metadata": {},
          "execution_count": 48
        }
      ]
    },
    {
      "cell_type": "code",
      "source": [
        "chatbot(\"hey\")"
      ],
      "metadata": {
        "colab": {
          "base_uri": "https://localhost:8080/",
          "height": 34
        },
        "id": "AaIJTq2pJJ5O",
        "outputId": "5214fbdb-a327-45c4-d4dc-1635461fa7a4"
      },
      "execution_count": 49,
      "outputs": [
        {
          "output_type": "execute_result",
          "data": {
            "text/plain": [
              "[{'generated_text': \" Hey, how are you? I'm just getting ready to go to work, how about you?\"}]"
            ]
          },
          "metadata": {},
          "execution_count": 49
        }
      ]
    },
    {
      "cell_type": "markdown",
      "source": [
        "Create an Interface for vanila chatbot"
      ],
      "metadata": {
        "id": "52FLqkXtOwNW"
      }
    },
    {
      "cell_type": "code",
      "source": [
        "def vanila_chatbot(message,history):\n",
        "  return chatbot(message)[0][\"generated_text\"]"
      ],
      "metadata": {
        "id": "Xjucdd7HJSeS"
      },
      "execution_count": 50,
      "outputs": []
    },
    {
      "cell_type": "code",
      "source": [
        "demobot = gr.ChatInterface(vanila_chatbot,title=\"Vanila Chatbot\")"
      ],
      "metadata": {
        "colab": {
          "base_uri": "https://localhost:8080/"
        },
        "id": "V2gYYVrdJxXQ",
        "outputId": "1cb63c42-d9e8-4ba8-c070-22f5f05f78a6"
      },
      "execution_count": 51,
      "outputs": [
        {
          "output_type": "stream",
          "name": "stderr",
          "text": [
            "/usr/local/lib/python3.11/dist-packages/gradio/chat_interface.py:339: UserWarning: The 'tuples' format for chatbot messages is deprecated and will be removed in a future version of Gradio. Please set type='messages' instead, which uses openai-style 'role' and 'content' keys.\n",
            "  self.chatbot = Chatbot(\n"
          ]
        }
      ]
    },
    {
      "cell_type": "code",
      "source": [
        "demobot.launch()"
      ],
      "metadata": {
        "colab": {
          "base_uri": "https://localhost:8080/",
          "height": 646
        },
        "id": "VvRAN-DDKrrt",
        "outputId": "2886c3f5-4701-4c96-a91d-1b9d93f4c85e"
      },
      "execution_count": 52,
      "outputs": [
        {
          "output_type": "stream",
          "name": "stdout",
          "text": [
            "It looks like you are running Gradio on a hosted a Jupyter notebook. For the Gradio app to work, sharing must be enabled. Automatically setting `share=True` (you can turn this off by setting `share=False` in `launch()` explicitly).\n",
            "\n",
            "Colab notebook detected. To show errors in colab notebook, set debug=True in launch()\n",
            "* Running on public URL: https://c91c66978ca5d5de0c.gradio.live\n",
            "\n",
            "This share link expires in 1 week. For free permanent hosting and GPU upgrades, run `gradio deploy` from the terminal in the working directory to deploy to Hugging Face Spaces (https://huggingface.co/spaces)\n"
          ]
        },
        {
          "output_type": "display_data",
          "data": {
            "text/plain": [
              "<IPython.core.display.HTML object>"
            ],
            "text/html": [
              "<div><iframe src=\"https://c91c66978ca5d5de0c.gradio.live\" width=\"100%\" height=\"500\" allow=\"autoplay; camera; microphone; clipboard-read; clipboard-write;\" frameborder=\"0\" allowfullscreen></iframe></div>"
            ]
          },
          "metadata": {}
        },
        {
          "output_type": "execute_result",
          "data": {
            "text/plain": []
          },
          "metadata": {},
          "execution_count": 52
        }
      ]
    }
  ]
}